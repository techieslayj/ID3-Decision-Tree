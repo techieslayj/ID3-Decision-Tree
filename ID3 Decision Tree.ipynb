{
 "cells": [
  {
   "cell_type": "code",
   "execution_count": null,
   "metadata": {},
   "outputs": [],
   "source": [
    "#--------------------- AJ Iglesias ----------------------------\n",
    "\n",
    "# - ID3 Decisin Tree algorithm using SKlearn\n",
    "\n",
    "#The following is a simplified decisin tree machine learning algorithm \n",
    "#The dataset is my own and small, built on 60 days of 4 features and 1 target (whether to play (1) or dont play on that day (0))\n",
    "#I include the sklearn decisiontreeclassifier for gini_impurity which is is a measure of how often a randomly \n",
    "#chosen element from the set would be incorrectly labeled if it was randomly labeled according to the distribution \n",
    "#of labels in the subset. Comparing the yprediction and x_test sets show how accurate the ML algorithm is in determining\n",
    "#how well it predicts based on the original data set. I finish the program by both writing a .txt file whose contents\n",
    "#can be copied and pastedon webgraphviz.com in order to see the drawn decision tree. "
   ]
  },
  {
   "cell_type": "code",
   "execution_count": null,
   "metadata": {},
   "outputs": [],
   "source": [
    "import numpy as np\n",
    "import pandas as pd\n",
    "from sklearn.model_selection import train_test_split\n",
    "from sklearn.tree import DecisionTreeClassifier\n",
    "from sklearn.metrics import accuracy_score\n",
    "from sklearn import tree"
   ]
  },
  {
   "cell_type": "code",
   "execution_count": null,
   "metadata": {},
   "outputs": [],
   "source": [
    "#read in my data set playsoccer.csv delimiter is , since a .csv\n",
    "\n",
    "data = pd.read_csv('Soccerdataset.csv', delimiter = ',')\n",
    "\n",
    "#print(data)\n",
    "#data type print out to ensure data type is accurate (object)\n",
    "# also print out data set length and shape\n",
    "#print(data.dtypes)\n",
    "#print(len(data))\n",
    "#print(data.shape)\n",
    "\n",
    "df = pd.DataFrame(data)\n",
    "\n",
    "#Need to change string values to int values for the DecisionTreeClassifier function from skLearn\n",
    "#Start with oour outlook column which is the only column to have 3 attributes (overcast, sunny, rain)\n",
    "df.replace({'Overcast': 2, 'Sunny': 1, 'Rain': 0}, inplace = True, regex = True)\n",
    "df.replace({'Hot': 2, 'Mild': 1, 'Cool': 0}, inplace = True, regex = True)\n",
    "\n",
    "#Now make the next columns binary as the next columns all only have 2 attributes\n",
    "df.replace({'High': 1, 'Normal': 0}, inplace = True, regex = True)\n",
    "df.replace({'Strong': 1, 'Weak': 0}, inplace = True, regex = True)\n",
    "df.replace({'Yes': 1, 'No': 0}, inplace = True, regex = True)\n",
    "\n",
    "#print dataframe if want to make sure we have all integers within our data\n",
    "cleandata = pd.DataFrame(df)\n",
    "#print(cleandata)\n"
   ]
  },
  {
   "cell_type": "code",
   "execution_count": null,
   "metadata": {},
   "outputs": [],
   "source": [
    "#Dataset slicing into target variable (y) and feature set (x)\n",
    "x = cleandata.values[:, 1:5]\n",
    "y = cleandata.values[:,5]\n",
    "#print(x)\n",
    "#print(y)\n",
    "\n",
    "#split into training and test sets\n",
    "#I will denote test_size as .3 so that test set will be 30% of the whole data set while the training set is 70% \n",
    "X_train, X_test, y_train, y_test = train_test_split(x, y, test_size = 0.3, random_state = 100)\n",
    "#so now X_train and y_train are the training sets \n",
    "#while X_test and y_test are the test sets\n"
   ]
  },
  {
   "cell_type": "code",
   "execution_count": null,
   "metadata": {},
   "outputs": [],
   "source": [
    "#Get Decision Tree Classifier gini importance is below will not be used here becaus this is common to the CART method\n",
    "# and requires all data within the data set to be binary meaning each column should only have 2 outcomes (i.e T or F)\n",
    "\n",
    "#clf_gini = DecisionTreeClassifier(criterion = 'gini', random_state = 100,\n",
    "                               #max_depth=3, min_samples_leaf=1)\n",
    "#clf_gini.fit(X_train, y_train)"
   ]
  },
  {
   "cell_type": "code",
   "execution_count": null,
   "metadata": {},
   "outputs": [],
   "source": [
    "#Set up Decision Tree Classifier using SkLearn DecisionTreeClassifier using entropy as criterion since doing ID3 tree\n",
    "clf_entropy = DecisionTreeClassifier(criterion = 'entropy', splitter = 'best', min_samples_split = 2,\n",
    "                            min_samples_leaf = 1)\n",
    "\n",
    "print('<<<<<<< Trained Decision Tree Classifier >>>>>>>>> \\n', clf_entropy)\n",
    "\n",
    "#fit our data after using DecisionTreeClassifier\n",
    "clf_entropy.fit(X_train, y_train)\n",
    "\n",
    "#If one wants to confirm it took a decision path\n",
    "#path = clf_entropy.decision_path\n",
    "#print(path)"
   ]
  },
  {
   "cell_type": "code",
   "execution_count": null,
   "metadata": {},
   "outputs": [],
   "source": [
    "#Now ready to predict the model using sklearn .predict()\n",
    "yprediction = clf_entropy.predict(X_test)\n",
    "print(yprediction)\n",
    "print(y_test)"
   ]
  },
  {
   "cell_type": "code",
   "execution_count": null,
   "metadata": {},
   "outputs": [],
   "source": [
    "#Taking accuracy of the model (Tells us how often the trained program will match the outcome or target of our data set\n",
    "#i.e. whether we should PlaySoccer or not) \n",
    "print('Accuracy of the Decision Tree ID3 model for this data: ', accuracy_score(y_test, yprediction)*100)\n",
    "\n",
    "#Confirm the correct data set was used\n",
    "#print(cleandata)"
   ]
  },
  {
   "cell_type": "code",
   "execution_count": null,
   "metadata": {},
   "outputs": [],
   "source": [
    "#convert out classifier tree into a txt file that can be copied to local directory and then its contents can be\n",
    "#copied and pasted on http://webgraphviz.com and tree can be viewed\n",
    "\n",
    "with open('playsoccer_Classifier.txt', 'w') as f:\n",
    "    f = tree.export_graphviz(clf_entropy, out_file = f)"
   ]
  },
  {
   "cell_type": "code",
   "execution_count": null,
   "metadata": {},
   "outputs": [],
   "source": []
  }
 ],
 "metadata": {
  "kernelspec": {
   "display_name": "Python 3",
   "language": "python",
   "name": "python3"
  },
  "language_info": {
   "codemirror_mode": {
    "name": "ipython",
    "version": 3
   },
   "file_extension": ".py",
   "mimetype": "text/x-python",
   "name": "python",
   "nbconvert_exporter": "python",
   "pygments_lexer": "ipython3",
   "version": "3.6.8"
  }
 },
 "nbformat": 4,
 "nbformat_minor": 2
}
